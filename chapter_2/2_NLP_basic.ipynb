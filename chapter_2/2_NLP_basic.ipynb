{
 "cells": [
  {
   "cell_type": "markdown",
   "id": "76febe43",
   "metadata": {},
   "source": [
    "## 1. 텍스트 토큰화"
   ]
  },
  {
   "cell_type": "code",
   "execution_count": 4,
   "id": "e4714cca",
   "metadata": {},
   "outputs": [
    {
     "name": "stdout",
     "output_type": "stream",
     "text": [
      "['mary', ',', 'do', \"n't\", 'slap', 'the', 'green', 'witch', '.']\n"
     ]
    }
   ],
   "source": [
    "import spacy\n",
    "\n",
    "nlp = spacy.load('en_core_web_sm') # 그냥 'en' 오류\n",
    "text = \"Mary, don't slap the green witch.\"\n",
    "print([str(token) for token in nlp(text.lower())])"
   ]
  },
  {
   "cell_type": "code",
   "execution_count": 1,
   "id": "06bccb23",
   "metadata": {},
   "outputs": [
    {
     "name": "stdout",
     "output_type": "stream",
     "text": [
      "['snow', 'white', 'and', 'the', 'seven', 'degrees', '#makeamoviecold', '@midnight', ':-)']\n"
     ]
    }
   ],
   "source": [
    "from nltk.tokenize import TweetTokenizer\n",
    "\n",
    "tweet = u\"Snow White and the Seven Degrees #MakeAMovieCold@midnight:-)\"\n",
    "tokenizer = TweetTokenizer()\n",
    "print(tokenizer.tokenize(tweet.lower()))"
   ]
  },
  {
   "cell_type": "markdown",
   "id": "7d04ef43",
   "metadata": {},
   "source": [
    "## 2. n-그램"
   ]
  },
  {
   "cell_type": "code",
   "execution_count": 2,
   "id": "0a6acf82",
   "metadata": {},
   "outputs": [
    {
     "name": "stdout",
     "output_type": "stream",
     "text": [
      "[['mary', ',', \"n't\"], [',', \"n't\", 'slap'], [\"n't\", 'slap', 'green'], ['slap', 'green', 'witch'], ['green', 'witch', '.']]\n"
     ]
    }
   ],
   "source": [
    "def n_grams(text,n):\n",
    "    return [text[i:i+n] for i in range(len(text)-n+1)]\n",
    "\n",
    "cleaned = ['mary', ',', \"n't\", 'slap', 'green', 'witch', '.']\n",
    "print(n_grams(cleaned, 3))"
   ]
  },
  {
   "cell_type": "markdown",
   "id": "44f10448",
   "metadata": {},
   "source": [
    "## 3. 표제어와 어간"
   ]
  },
  {
   "cell_type": "code",
   "execution_count": 4,
   "id": "c2f4298c",
   "metadata": {},
   "outputs": [
    {
     "name": "stdout",
     "output_type": "stream",
     "text": [
      "he --> he\n",
      "was --> be\n",
      "running --> run\n",
      "late --> late\n"
     ]
    }
   ],
   "source": [
    "# 표제어 추출 (lemmatization)\n",
    "\n",
    "import spacy\n",
    "\n",
    "nlp = spacy.load('en_core_web_sm')\n",
    "doc = nlp(u\"he was running late\")\n",
    "for token in doc:  # 레마 = 표제어 = 기본형\n",
    "    print(\"{} --> {}\".format(token, token.lemma_))"
   ]
  },
  {
   "cell_type": "markdown",
   "id": "936a4d2b",
   "metadata": {},
   "source": [
    "\"벡터 표현의 차원을 줄이는 방법\"\n",
    "- 1) Lemmatization (표제어 추출) : 'geese'-->'goose'\n",
    "    - spaCy --> WordNet 사전 이용\n",
    "- 2) Stemming (어간 추출) : 'geese'-->'gees'\n",
    "    - Porter, Snowball 어간 추출기 이용"
   ]
  },
  {
   "cell_type": "markdown",
   "id": "f7bc40da",
   "metadata": {},
   "source": [
    "## 4. 문장과 문서 분류하기 \n",
    "- 토픽 레이블 할당, 리뷰 감성 예측, 스팸 이메일 필터링, 언어 식별, 이메일 분류"
   ]
  },
  {
   "cell_type": "markdown",
   "id": "550b97ec",
   "metadata": {},
   "source": [
    "## 5. 단어 분류하기: 품사 태깅"
   ]
  },
  {
   "cell_type": "code",
   "execution_count": 5,
   "id": "95680023",
   "metadata": {},
   "outputs": [
    {
     "name": "stdout",
     "output_type": "stream",
     "text": [
      "Mary - PROPN\n",
      "slapped - VERB\n",
      "the - DET\n",
      "green - PROPN\n",
      "witch - NOUN\n",
      ". - PUNCT\n"
     ]
    }
   ],
   "source": [
    "doc = nlp(u\"Mary slapped the green witch.\")\n",
    "for token in doc:\n",
    "    print(\"{} - {}\".format(token, token.pos_))"
   ]
  },
  {
   "cell_type": "markdown",
   "id": "c9d60261",
   "metadata": {},
   "source": [
    "## 6. 청크 나누기와 개체명 인식"
   ]
  },
  {
   "cell_type": "code",
   "execution_count": 6,
   "id": "89487872",
   "metadata": {},
   "outputs": [
    {
     "name": "stdout",
     "output_type": "stream",
     "text": [
      "Mary - NP\n",
      "the green witch - NP\n"
     ]
    }
   ],
   "source": [
    "# 부분 구문 분석 (shallow parsing)\n",
    "for chunk in doc.noun_chunks:\n",
    "    print(\"{} - {}\".format(chunk, chunk.label_))"
   ]
  },
  {
   "cell_type": "markdown",
   "id": "5d9ac2a5",
   "metadata": {},
   "source": [
    "## 7. 문장 구조\n",
    "- 구문 분석 (parsing) : 구 사이의 관계 파악\n",
    "    - 구성 구문 분석 (costituent parsing)\n",
    "    - 의존 구문 분석 (dependency parsing)"
   ]
  },
  {
   "cell_type": "markdown",
   "id": "484a6ef4",
   "metadata": {},
   "source": [
    "## 8. 단어 의미와 의미론\n",
    "- WordNet: 프린스턴 대학의 장기간 어휘 사전 프로젝트\n",
    "- NLP에서의 첫 준지도 학습(semi-supervised learning): 텍스트에서 단어 의미를 자동으로 찾는 일"
   ]
  }
 ],
 "metadata": {
  "kernelspec": {
   "display_name": "Python 3 (ipykernel)",
   "language": "python",
   "name": "python3"
  },
  "language_info": {
   "codemirror_mode": {
    "name": "ipython",
    "version": 3
   },
   "file_extension": ".py",
   "mimetype": "text/x-python",
   "name": "python",
   "nbconvert_exporter": "python",
   "pygments_lexer": "ipython3",
   "version": "3.9.13"
  }
 },
 "nbformat": 4,
 "nbformat_minor": 5
}
