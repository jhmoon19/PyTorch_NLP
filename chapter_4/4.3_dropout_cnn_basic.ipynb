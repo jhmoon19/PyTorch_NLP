{
 "cells": [
  {
   "cell_type": "markdown",
   "id": "c5f7ba37",
   "metadata": {},
   "source": [
    "## 4.2.6. MLP 규제\n",
    "### 1) L2, L1 규제: 가중치 규제\n",
    "- L2: 곡선을 부드럽게 만드는 제약 (weight_decay 옵션으로 부드러운 수준 조절)\n",
    "    - 값이 클수롭 옵티마이저는 부드러운 모델 선택(L2 규제가 강해짐)\n",
    "- L1: 희소한 솔루션을 만드는 데 사용 (대부분의 모델 파라미터가 0)\n",
    "\n",
    "### 2) 드롭아웃: 구조적 규제\n",
    "- 두 층 사이 유닛 연결을 랜덤하게 끊음\n",
    "- --> 어떤 유닛도 다른 유닛에 전적으로 의존하지 못해서 모델 안정(+)\n",
    "- <-> \"상호 적응\"(-): 다른 유닛 간 연결 희생하는 대신, 두 유닛 사이 연결이 지나치게 강해지는 상황--> 과대적합 (신경과학 용어)"
   ]
  },
  {
   "cell_type": "markdown",
   "id": "b584b07d",
   "metadata": {},
   "source": [
    "드롭아웃을 적용한 MLP 구현\n",
    "- 모델에 \"드롭 확률 하이퍼파라미터\" 추가\n",
    "- 유닛 사이의 연결을 드롭할 확률 (보통 0.5)"
   ]
  },
  {
   "cell_type": "code",
   "execution_count": 1,
   "id": "9f1a050a",
   "metadata": {},
   "outputs": [],
   "source": [
    "import torch\n",
    "import torch.nn as nn\n",
    "import torch.nn.functional as F\n",
    "\n",
    "class MultilayerPerceptron(nn.Module):\n",
    "    def __int__(self, input_dim, hidden_dim, output_dim):\n",
    "        super(MultilayerPerceptron, self).__init__()\n",
    "        self.fc1 = nn.Linear(input_dim, hidden_dim)\n",
    "        self.fc2 = nn.Linear(hidden_dim, output_dim)\n",
    "        \n",
    "    def forward(self, x_in, apply_softmax=False):\n",
    "        intermediate = F.relu(self.fc1(x_in))\n",
    "        output = self.fc2(F.dropout(intermediate, p=0.5))\n",
    "        \n",
    "        if apply_softmax:\n",
    "            output = F.softmax(output, dim=1)\n",
    "            \n",
    "        return output"
   ]
  },
  {
   "cell_type": "markdown",
   "id": "e3a5c16b",
   "metadata": {},
   "source": [
    "## 4.3.2. 파이토치로 CNN 구현하기\n",
    "### 인공 데이터와 Conv1d 클래스\n",
    "- 특성 벡터 생성의 첫 단계: Conv1d 클래스 객체를 3차원 데이터 텐서에 적용\n",
    "- 출력 텐서 크기가 줄어든다! "
   ]
  },
  {
   "cell_type": "code",
   "execution_count": 5,
   "id": "e22eb493",
   "metadata": {},
   "outputs": [
    {
     "name": "stdout",
     "output_type": "stream",
     "text": [
      "torch.Size([2, 10, 7])\n",
      "torch.Size([2, 16, 5])\n"
     ]
    }
   ],
   "source": [
    "batch_size = 2\n",
    "one_hot_size = 10 # 어휘 사전의 크기(입력 채널 개수) : 증가하는 채널 차원의 크기 (10-->16-->32-->64)\n",
    "sequence_width = 7 # 문자 시퀀스의 길이 : 줄어드는 출력텐서의 크기 (7-->5-->3-->1)\n",
    "\n",
    "data = torch.randn(batch_size, one_hot_size, sequence_width) # (2,10,7)\n",
    "conv1 = nn.Conv1d(in_channels=one_hot_size, out_channels=16, kernel_size=3)\n",
    "# 입력 채널: 10개 --> 출력 채널: 16개 (늘어남!!!)\n",
    "intermediate1 = conv1(data)\n",
    "\n",
    "print(data.size())  # torch.Size([2, 10, 7])\n",
    "# print(data)\n",
    "print(intermediate1.size())  # torch.Size([2, 16, 5])\n",
    "# print(intermediate1)"
   ]
  },
  {
   "cell_type": "code",
   "execution_count": 6,
   "id": "50ce3c7c",
   "metadata": {},
   "outputs": [
    {
     "name": "stdout",
     "output_type": "stream",
     "text": [
      "torch.Size([2, 32, 3])\n",
      "torch.Size([2, 64, 1])\n"
     ]
    }
   ],
   "source": [
    "conv2 = nn.Conv1d(in_channels=16, out_channels=32, kernel_size=3)\n",
    "conv3 = nn.Conv1d(in_channels=32, out_channels=64, kernel_size=3)\n",
    "\n",
    "intermediate2 = conv2(intermediate1)\n",
    "intermediate3 = conv3(intermediate2)\n",
    "\n",
    "print(intermediate2.size())\n",
    "print(intermediate3.size())"
   ]
  },
  {
   "cell_type": "code",
   "execution_count": 7,
   "id": "fe930327",
   "metadata": {},
   "outputs": [
    {
     "name": "stdout",
     "output_type": "stream",
     "text": [
      "torch.Size([2, 64])\n"
     ]
    }
   ],
   "source": [
    "y_output = intermediate3.squeeze()\n",
    "print(y_output.size())"
   ]
  },
  {
   "cell_type": "code",
   "execution_count": 8,
   "id": "40f3062a",
   "metadata": {},
   "outputs": [
    {
     "name": "stdout",
     "output_type": "stream",
     "text": [
      "torch.Size([2, 80])\n",
      "torch.Size([2, 16])\n"
     ]
    }
   ],
   "source": [
    "# 특성 벡터를 줄이는 방법 2\n",
    "print(intermediate1.view(batch_size, -1).size())\n",
    "\n",
    "# 특성 벡터를 줄이는 방법 3\n",
    "print(torch.mean(intermediate1, dim=2).size())"
   ]
  },
  {
   "cell_type": "code",
   "execution_count": 10,
   "id": "ef7f7b26",
   "metadata": {},
   "outputs": [
    {
     "data": {
      "text/plain": [
       "tensor([[ 0.2336,  0.0314,  0.5904, -0.2608,  0.3580, -0.1331,  0.0781, -0.0289,\n",
       "          0.2339, -0.0439, -0.1255,  0.2845,  0.3261,  0.0895,  0.0185, -0.1021],\n",
       "        [ 0.0596, -0.2360, -0.1638,  0.4077,  0.3807, -0.0178, -0.5495, -0.1608,\n",
       "          0.0151, -0.3122, -0.0232, -0.3320,  0.4357,  0.0049, -0.1636, -0.3066]],\n",
       "       grad_fn=<MeanBackward1>)"
      ]
     },
     "execution_count": 10,
     "metadata": {},
     "output_type": "execute_result"
    }
   ],
   "source": [
    "torch.mean(intermediate1, dim=2)"
   ]
  },
  {
   "cell_type": "code",
   "execution_count": 13,
   "id": "41d492eb",
   "metadata": {},
   "outputs": [
    {
     "data": {
      "text/plain": [
       "0.23362000000000002"
      ]
     },
     "execution_count": 13,
     "metadata": {},
     "output_type": "execute_result"
    }
   ],
   "source": [
    "sum([ 0.3809,  0.9817,  0.0071,  0.6531, -0.8547]) / 5"
   ]
  },
  {
   "cell_type": "code",
   "execution_count": 11,
   "id": "974b9f33",
   "metadata": {},
   "outputs": [
    {
     "data": {
      "text/plain": [
       "tensor([[[ 0.3809,  0.9817,  0.0071,  0.6531, -0.8547],\n",
       "         [-0.1413, -0.1154, -0.2057, -0.4458,  1.0652],\n",
       "         [ 0.3591,  0.7309,  1.3937, -0.4270,  0.8950],\n",
       "         [-0.3762, -0.0295, -0.8151, -0.2099,  0.1269],\n",
       "         [ 0.4933,  0.0622,  0.6837,  0.2406,  0.3100],\n",
       "         [-0.2958,  0.7481, -1.0368, -0.4772,  0.3959],\n",
       "         [-0.1905,  0.6143,  0.0034, -0.3635,  0.3267],\n",
       "         [-0.6815,  0.4849,  0.2171, -0.2997,  0.1348],\n",
       "         [ 0.4168,  0.2603,  0.3651, -0.2540,  0.3815],\n",
       "         [ 0.0902,  0.8479, -0.2559, -0.4442, -0.4577],\n",
       "         [-1.1323,  0.2508,  0.1969,  0.7232, -0.6659],\n",
       "         [ 0.0829,  0.7409,  0.3315, -0.0563,  0.3238],\n",
       "         [ 0.4004,  0.5064,  0.3465,  0.7065, -0.3291],\n",
       "         [ 0.5829,  0.1141, -0.3796,  0.2355, -0.1053],\n",
       "         [-0.8111,  0.5783,  0.3150, -0.0591,  0.0696],\n",
       "         [-0.0143, -0.1024,  0.5793, -0.4656, -0.5074]],\n",
       "\n",
       "        [[-0.2380, -0.3304,  0.2833,  0.4889,  0.0940],\n",
       "         [-0.2316, -0.4655, -0.1956, -0.3711,  0.0839],\n",
       "         [-1.2031, -0.4380,  0.8364, -0.8149,  0.8008],\n",
       "         [-0.3560,  0.3769,  1.1130,  0.0646,  0.8402],\n",
       "         [ 0.1884,  0.1168, -0.0149,  0.0217,  1.5917],\n",
       "         [ 0.2209,  0.0332,  0.5106, -0.5131, -0.3406],\n",
       "         [ 0.1330, -1.0581, -0.5299, -0.1200, -1.1725],\n",
       "         [-0.1451, -0.3959,  0.7523, -0.6311, -0.3839],\n",
       "         [-0.3016, -0.5839,  0.1957,  0.3686,  0.3968],\n",
       "         [-0.6545, -0.1558, -0.0527,  0.1232, -0.8214],\n",
       "         [ 0.5597,  0.4103, -0.3593, -1.0957,  0.3688],\n",
       "         [-0.5570, -0.6657, -0.7068, -0.1943,  0.4636],\n",
       "         [ 0.4634, -0.1345,  0.4696,  1.1199,  0.2603],\n",
       "         [-0.1316,  0.3573, -0.2717,  0.3287, -0.2581],\n",
       "         [-0.0350, -0.1004, -0.8539, -0.1611,  0.3323],\n",
       "         [-0.1814, -1.0431,  0.1498,  0.5503, -1.0088]]],\n",
       "       grad_fn=<ConvolutionBackward0>)"
      ]
     },
     "execution_count": 11,
     "metadata": {},
     "output_type": "execute_result"
    }
   ],
   "source": [
    "intermediate1"
   ]
  }
 ],
 "metadata": {
  "kernelspec": {
   "display_name": "Python 3 (ipykernel)",
   "language": "python",
   "name": "python3"
  },
  "language_info": {
   "codemirror_mode": {
    "name": "ipython",
    "version": 3
   },
   "file_extension": ".py",
   "mimetype": "text/x-python",
   "name": "python",
   "nbconvert_exporter": "python",
   "pygments_lexer": "ipython3",
   "version": "3.9.13"
  }
 },
 "nbformat": 4,
 "nbformat_minor": 5
}
