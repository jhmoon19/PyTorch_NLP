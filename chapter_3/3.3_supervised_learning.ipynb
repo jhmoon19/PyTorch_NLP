{
 "cells": [
  {
   "cell_type": "markdown",
   "id": "6521f206",
   "metadata": {},
   "source": [
    "## 3.4. 지도 학습 훈련"
   ]
  },
  {
   "cell_type": "code",
   "execution_count": 3,
   "id": "ff78731e",
   "metadata": {},
   "outputs": [],
   "source": [
    "import torch\n",
    "import torch.nn as nn\n",
    "import torch.optim as optim\n",
    "\n",
    "class Perceptron(nn.Module):\n",
    "    \"\"\"퍼셉트론은 하나의 선형 층이다.\n",
    "       선형함수(wx+b)와 비선형함수(f:활성화함수)의 조합\n",
    "       y = f(wx + b): 벡터 w,x의 점곱\"\"\"\n",
    "    \n",
    "    def __init__(self, input_dim):\n",
    "        # input_dim: 입력 특성의 크기 (int)\n",
    "        super(Perceptron, self).__init__()  # super(): 자식 클래스에서 부모클래스의 내용을 사용\n",
    "        self.fc1 = nn.Linear(input_dim, 1)\n",
    "        # 아핀변환: wx + b (torch.nn.Linear(__))\n",
    "        \n",
    "    def forward(self, x_in):\n",
    "        \"\"\" 퍼셉트론의 정방향 계산 \"\"\"\n",
    "        # x_in: 입력 데이터 텐서\n",
    "        # x_in.shape는 (batch, num_features)\n",
    "        # 반환값: (batch,) 모양\n",
    "        return torch.sigmoid(self.fc1(x_in)).squeeze()\n",
    "        # 활성화함수: torch.sigmoid(wx+b) - 시그모이드 함수\n",
    "\n",
    "# Adam 옵티마이저 준비\n",
    "input_dim = 2\n",
    "lr = 0.001\n",
    "\n",
    "perceptron = Perceptron(input_dim=input_dim)\n",
    "bce_loss = nn.BCELoss() # 이진 크로스 엔트로피 손실 함수\n",
    "optimizer = optim.Adam(params=perceptron.parameters(), lr=lr)"
   ]
  },
  {
   "cell_type": "code",
   "execution_count": 4,
   "id": "552970cf",
   "metadata": {},
   "outputs": [
    {
     "ename": "NameError",
     "evalue": "name 'n_epochs' is not defined",
     "output_type": "error",
     "traceback": [
      "\u001b[1;31m---------------------------------------------------------------------------\u001b[0m",
      "\u001b[1;31mNameError\u001b[0m                                 Traceback (most recent call last)",
      "\u001b[1;32m~\\AppData\\Local\\Temp\\ipykernel_20444\\1250009985.py\u001b[0m in \u001b[0;36m<module>\u001b[1;34m\u001b[0m\n\u001b[0;32m      1\u001b[0m \u001b[1;31m# 각 에포크(epoch)는 전체 훈련 데이터 사용\u001b[0m\u001b[1;33m\u001b[0m\u001b[1;33m\u001b[0m\u001b[0m\n\u001b[1;32m----> 2\u001b[1;33m \u001b[1;32mfor\u001b[0m \u001b[0mepoch_i\u001b[0m \u001b[1;32min\u001b[0m \u001b[0mrange\u001b[0m\u001b[1;33m(\u001b[0m\u001b[0mn_epochs\u001b[0m\u001b[1;33m)\u001b[0m\u001b[1;33m:\u001b[0m\u001b[1;33m\u001b[0m\u001b[1;33m\u001b[0m\u001b[0m\n\u001b[0m\u001b[0;32m      3\u001b[0m     \u001b[1;31m# 내부 반복은 데이터셋의 각 배치에 대해 수행\u001b[0m\u001b[1;33m\u001b[0m\u001b[1;33m\u001b[0m\u001b[0m\n\u001b[0;32m      4\u001b[0m     \u001b[1;32mfor\u001b[0m \u001b[0mbatch_i\u001b[0m \u001b[1;32min\u001b[0m \u001b[0mrange\u001b[0m\u001b[1;33m(\u001b[0m\u001b[0mn_batches\u001b[0m\u001b[1;33m)\u001b[0m\u001b[1;33m:\u001b[0m\u001b[1;33m\u001b[0m\u001b[1;33m\u001b[0m\u001b[0m\n\u001b[0;32m      5\u001b[0m \u001b[1;33m\u001b[0m\u001b[0m\n",
      "\u001b[1;31mNameError\u001b[0m: name 'n_epochs' is not defined"
     ]
    }
   ],
   "source": [
    "# 각 에포크(epoch)는 전체 훈련 데이터 사용\n",
    "for epoch_i in range(n_epochs):\n",
    "    # 내부 반복은 데이터셋의 각 배치에 대해 수행\n",
    "    for batch_i in range(n_batches):\n",
    "        \n",
    "        # 0단계: 데이터 가져오기\n",
    "        x_data, y_target = get_toy_data(batch_size)\n",
    "        \n",
    "        # 1단계: 그래디언트 초기화\n",
    "        perceptron.zero_grad()\n",
    "        \n",
    "        # 2단계: 모델의 정방향 계산 수행\n",
    "        y_pred = perceptron(x_data, apply_sigmoid=True)\n",
    "        \n",
    "        # 3단계: 최적화하려는 손실 계산\n",
    "        loss = bce_loss(y_pred, y_target)\n",
    "        \n",
    "        # 4단계: 손실 신호를 거꾸로 전파하기\n",
    "        loss.backward()\n",
    "        \n",
    "        # 5단계: 옵티마이저로 업데이트\n",
    "        optimizer.step()"
   ]
  }
 ],
 "metadata": {
  "kernelspec": {
   "display_name": "Python 3 (ipykernel)",
   "language": "python",
   "name": "python3"
  },
  "language_info": {
   "codemirror_mode": {
    "name": "ipython",
    "version": 3
   },
   "file_extension": ".py",
   "mimetype": "text/x-python",
   "name": "python",
   "nbconvert_exporter": "python",
   "pygments_lexer": "ipython3",
   "version": "3.9.13"
  }
 },
 "nbformat": 4,
 "nbformat_minor": 5
}
