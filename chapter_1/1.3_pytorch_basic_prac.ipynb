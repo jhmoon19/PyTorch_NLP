{
 "cells": [
  {
   "cell_type": "markdown",
   "id": "7af5a8e2",
   "metadata": {},
   "source": [
    "# 파이토치 기초 연습문제"
   ]
  },
  {
   "cell_type": "markdown",
   "id": "6424afe6",
   "metadata": {},
   "source": [
    "1. 2D 텐서를 만들고 차원 0 위치에 크기가 1인 차원을 추가하세요.\n",
    "- unsqueeze()"
   ]
  },
  {
   "cell_type": "code",
   "execution_count": 17,
   "id": "5d7d14fc",
   "metadata": {},
   "outputs": [
    {
     "name": "stdout",
     "output_type": "stream",
     "text": [
      "tensor([[0.0000e+00, 1.0194e-38, 1.8754e+28],\n",
      "        [6.4978e-07, 1.0315e-08, 1.3085e-11]])\n",
      "torch.Size([2, 3])\n",
      "tensor([[[0.0000e+00, 1.0194e-38, 1.8754e+28],\n",
      "         [6.4978e-07, 1.0315e-08, 1.3085e-11]]])\n",
      "torch.Size([1, 2, 3])\n"
     ]
    }
   ],
   "source": [
    "import torch\n",
    "\n",
    "x = torch.Tensor(2,3) # 2행3열의 텐서\n",
    "print(x)\n",
    "# tensor([[7.7731e+34, 5.8014e-43, 7.7731e+34],\n",
    "#         [5.8014e-43, 7.7734e+34, 5.8014e-43]])\n",
    "print(x.shape)  # torch.Size([2, 3])\n",
    "\n",
    "''' \n",
    "0(행)위치에 크기1 차원 추가하기: unsqueeze(0)\n",
    "원본을 바꾸지는 않음! \n",
    "'''\n",
    "print(x.unsqueeze(0))\n",
    "# tensor([[[1.0315e-08, 1.3085e-11, 8.5753e-07],\n",
    "#          [1.3167e-08, 1.0431e+21, 1.2794e+22]]])\n",
    "print(x.unsqueeze(0).size())\n",
    "# torch.Size([1, 2, 3])"
   ]
  },
  {
   "cell_type": "code",
   "execution_count": 9,
   "id": "93f1bc14",
   "metadata": {
    "scrolled": true
   },
   "outputs": [
    {
     "name": "stdout",
     "output_type": "stream",
     "text": [
      "tensor([[1.0315e-08, 1.3085e-11, 8.5753e-07, 1.3167e-08, 1.0431e+21, 1.2794e+22]])\n",
      "torch.Size([1, 6])\n",
      "\n",
      "tensor([[[1.0315e-08, 1.3085e-11, 8.5753e-07],\n",
      "         [1.3167e-08, 1.0431e+21, 1.2794e+22]]])\n",
      "torch.Size([1, 2, 3])\n"
     ]
    }
   ],
   "source": [
    "print(x.view(1,-1))\n",
    "# tensor([[1.0315e-08, 1.3085e-11, 8.5753e-07, \n",
    "#          1.3167e-08, 1.0431e+21, 1.2794e+22]])\n",
    "print(x.view(1,-1).size())  # torch.Size([1, 6])\n",
    "print()\n",
    "\n",
    "# x.view(1,-1,-1) : 오류\n",
    "# RuntimeError: only one dimension can be inferred\n",
    "# 하나의 차원만 추론될 수 있음! (-1)\n",
    "\n",
    "'''위의 x.unsqueeze(0)과 같은 결과!'''\n",
    "print(x.view(1, 2, -1))\n",
    "# tensor([[[1.0315e-08, 1.3085e-11, 8.5753e-07],\n",
    "#          [1.3167e-08, 1.0431e+21, 1.2794e+22]]])\n",
    "print(x.view(1, 2, -1).size()) # torch.Size([1, 2, 3])"
   ]
  },
  {
   "cell_type": "code",
   "execution_count": 12,
   "id": "83f94bc7",
   "metadata": {},
   "outputs": [
    {
     "name": "stdout",
     "output_type": "stream",
     "text": [
      "tensor([[[1.0315e-08, 1.3085e-11, 8.5753e-07]],\n",
      "\n",
      "        [[1.3167e-08, 1.0431e+21, 1.2794e+22]]])\n",
      "torch.Size([2, 1, 3])\n",
      "\n",
      "tensor([[[1.0315e-08],\n",
      "         [1.3085e-11],\n",
      "         [8.5753e-07]],\n",
      "\n",
      "        [[1.3167e-08],\n",
      "         [1.0431e+21],\n",
      "         [1.2794e+22]]])\n",
      "torch.Size([2, 3, 1])\n",
      "\n",
      "tensor([[[1.0315e-08],\n",
      "         [1.3085e-11],\n",
      "         [8.5753e-07]],\n",
      "\n",
      "        [[1.3167e-08],\n",
      "         [1.0431e+21],\n",
      "         [1.2794e+22]]])\n",
      "torch.Size([2, 3, 1])\n",
      "\n"
     ]
    }
   ],
   "source": [
    "print(x.unsqueeze(1))\n",
    "# tensor([[[1.0315e-08, 1.3085e-11, 8.5753e-07]],\n",
    "\n",
    "#         [[1.3167e-08, 1.0431e+21, 1.2794e+22]]])\n",
    "print(x.unsqueeze(1).shape)\n",
    "# torch.Size([2, 1, 3])\n",
    "print()\n",
    "\n",
    "print(x.unsqueeze(2))\n",
    "# tensor([[[1.0315e-08],\n",
    "#          [1.3085e-11],\n",
    "#          [8.5753e-07]],\n",
    "\n",
    "#         [[1.3167e-08],\n",
    "#          [1.0431e+21],\n",
    "#          [1.2794e+22]]])\n",
    "print(x.unsqueeze(2).shape)\n",
    "# torch.Size([2, 3, 1])\n",
    "print()\n",
    "\n",
    "'''다음과 동일한 결과'''\n",
    "print(x.unsqueeze(-1))\n",
    "print(x.unsqueeze(-1).shape)\n",
    "# torch.Size([2, 3, 1])\n",
    "print()\n",
    "\n",
    "# print(x.unsqueeze(3))\n",
    "# IndexError: Dimension out of range"
   ]
  },
  {
   "cell_type": "markdown",
   "id": "dc905aaf",
   "metadata": {},
   "source": [
    "### squeeze(): 크기1 차원 제거"
   ]
  },
  {
   "cell_type": "code",
   "execution_count": 14,
   "id": "9e9dff27",
   "metadata": {},
   "outputs": [
    {
     "name": "stdout",
     "output_type": "stream",
     "text": [
      "tensor([[0.],\n",
      "        [1.],\n",
      "        [2.]])\n",
      "torch.Size([3, 1])\n"
     ]
    }
   ],
   "source": [
    "ft = torch.FloatTensor([[0],[1],[2]])\n",
    "print(ft)\n",
    "print(ft.shape)"
   ]
  },
  {
   "cell_type": "code",
   "execution_count": 15,
   "id": "2b5048bf",
   "metadata": {},
   "outputs": [
    {
     "name": "stdout",
     "output_type": "stream",
     "text": [
      "tensor([0., 1., 2.])\n",
      "torch.Size([3])\n"
     ]
    }
   ],
   "source": [
    "print(ft.squeeze())\n",
    "print(ft.squeeze().shape)"
   ]
  },
  {
   "cell_type": "markdown",
   "id": "38cd1b50",
   "metadata": {},
   "source": [
    "2. 이전 텐서에 추가한 차원을 삭제하세요.\n",
    "- squeeze()"
   ]
  },
  {
   "cell_type": "code",
   "execution_count": 19,
   "id": "861459c0",
   "metadata": {},
   "outputs": [
    {
     "name": "stdout",
     "output_type": "stream",
     "text": [
      "tensor([[0.0000e+00, 1.0194e-38, 1.8754e+28],\n",
      "        [6.4978e-07, 1.0315e-08, 1.3085e-11]])\n",
      "tensor([[[0.0000e+00, 1.0194e-38, 1.8754e+28],\n",
      "         [6.4978e-07, 1.0315e-08, 1.3085e-11]]])\n",
      "tensor([[0.0000e+00, 1.0194e-38, 1.8754e+28],\n",
      "        [6.4978e-07, 1.0315e-08, 1.3085e-11]])\n"
     ]
    }
   ],
   "source": [
    "print(x)\n",
    "x = x.unsqueeze(0)\n",
    "print(x)\n",
    "x = x.squeeze()\n",
    "print(x)"
   ]
  },
  {
   "cell_type": "markdown",
   "id": "6a1f7f00",
   "metadata": {},
   "source": [
    "3. 범위가 [3,7)이고 크기가 5x3인 랜덤한 텐서를 만드세요."
   ]
  },
  {
   "cell_type": "code",
   "execution_count": 23,
   "id": "ea17b2c0",
   "metadata": {
    "scrolled": true
   },
   "outputs": [
    {
     "name": "stdout",
     "output_type": "stream",
     "text": [
      "tensor([[0.1294, 0.9973, 0.9062],\n",
      "        [0.2892, 0.3753, 0.5148],\n",
      "        [0.1950, 0.7472, 0.7477],\n",
      "        [0.6842, 0.6973, 0.5652],\n",
      "        [0.4699, 0.1149, 0.4324]])\n",
      "tensor([[3.5176, 6.9893, 6.6248],\n",
      "        [4.1567, 4.5012, 5.0593],\n",
      "        [3.7799, 5.9887, 5.9908],\n",
      "        [5.7369, 5.7893, 5.2608],\n",
      "        [4.8794, 3.4594, 4.7297]])\n"
     ]
    }
   ],
   "source": [
    "# [0,1) 범위 균등 분포\n",
    "x = torch.rand(5,3)\n",
    "print(x)\n",
    "\n",
    "print(3+x*(7-3))"
   ]
  },
  {
   "cell_type": "markdown",
   "id": "0f4f28b2",
   "metadata": {},
   "source": [
    "4. 정규 분포(평균=0, 표준편차=1)를 사용해 텐서를 만드세요."
   ]
  },
  {
   "cell_type": "code",
   "execution_count": 24,
   "id": "81e7e854",
   "metadata": {},
   "outputs": [
    {
     "name": "stdout",
     "output_type": "stream",
     "text": [
      "tensor([[-1.9239,  0.9808, -0.6160],\n",
      "        [ 0.4162, -0.0621,  2.2402]])\n"
     ]
    }
   ],
   "source": [
    "# 방법1\n",
    "x = torch.randn(2,3)\n",
    "print(x)"
   ]
  },
  {
   "cell_type": "code",
   "execution_count": 25,
   "id": "dc691715",
   "metadata": {},
   "outputs": [
    {
     "data": {
      "text/plain": [
       "tensor([[-1.1760,  0.8718, -0.8003],\n",
       "        [-0.5636,  2.8758, -1.6581]])"
      ]
     },
     "execution_count": 25,
     "metadata": {},
     "output_type": "execute_result"
    }
   ],
   "source": [
    "# 방법2\n",
    "x = torch.rand(2,3)\n",
    "x.normal_()"
   ]
  },
  {
   "cell_type": "markdown",
   "id": "5d7290c6",
   "metadata": {},
   "source": [
    "5. 텐서 torch.Tensor([1,1,1,0,1])에서 0이 아닌 원소의 인덱스를 추출하세요."
   ]
  },
  {
   "cell_type": "code",
   "execution_count": 26,
   "id": "fc1ced78",
   "metadata": {},
   "outputs": [
    {
     "data": {
      "text/plain": [
       "tensor([[0],\n",
       "        [1],\n",
       "        [2],\n",
       "        [4]])"
      ]
     },
     "execution_count": 26,
     "metadata": {},
     "output_type": "execute_result"
    }
   ],
   "source": [
    "x = torch.Tensor([1,1,1,0,1])\n",
    "torch.nonzero(x)"
   ]
  },
  {
   "cell_type": "code",
   "execution_count": 30,
   "id": "1ae45bdd",
   "metadata": {},
   "outputs": [
    {
     "name": "stdout",
     "output_type": "stream",
     "text": [
      "tensor([[0, 0],\n",
      "        [0, 1],\n",
      "        [1, 0]])\n",
      "(tensor([0, 0, 1]), tensor([0, 1, 0]))\n",
      "tensor(3)\n"
     ]
    }
   ],
   "source": [
    "# nonzero 다른 예시\n",
    "a = torch.Tensor([[1,2,0],\n",
    "                 [2,0,0],\n",
    "                 [0,0,0]])\n",
    "\n",
    "'''이해할 수 없음--> 이해완료\n",
    "각 행은 0아닌 값의 [행번호, 열번호]'''\n",
    "print(torch.nonzero(a))\n",
    "# tensor([[0, 0],\n",
    "#         [0, 1],\n",
    "#         [1, 0]])\n",
    "'''행번호와 열번호를 따로 분리 -->\n",
    "1차원 텐서에서 nonzero 찾을땐 굳이 안함'''\n",
    "print(torch.nonzero(a, as_tuple=True))\n",
    "# (tensor([0, 0, 1]), tensor([0, 1, 0]))\n",
    "print(torch.count_nonzero(a))\n",
    "# tensor(3)"
   ]
  },
  {
   "cell_type": "markdown",
   "id": "893407ee",
   "metadata": {},
   "source": [
    "nonzero(): 0 아닌 값의 인덱스를 각 행에 담은 2차원 텐서 반환\n",
    "- nonzero(__, as_tuple=True): 1차원 텐서 반환\n",
    "- count_nonzero(): 0 아닌 값의 개수 계산"
   ]
  },
  {
   "cell_type": "markdown",
   "id": "6825fc16",
   "metadata": {},
   "source": [
    "6. 크기가 (3,1)인 랜덤한 텐서를 만들고 네 벌을 복사해 쌓으세요."
   ]
  },
  {
   "cell_type": "code",
   "execution_count": 31,
   "id": "7eefb540",
   "metadata": {},
   "outputs": [
    {
     "data": {
      "text/plain": [
       "tensor([[[0.5499],\n",
       "         [0.9058],\n",
       "         [0.7018]],\n",
       "\n",
       "        [[0.5499],\n",
       "         [0.9058],\n",
       "         [0.7018]],\n",
       "\n",
       "        [[0.5499],\n",
       "         [0.9058],\n",
       "         [0.7018]],\n",
       "\n",
       "        [[0.5499],\n",
       "         [0.9058],\n",
       "         [0.7018]]])"
      ]
     },
     "execution_count": 31,
     "metadata": {},
     "output_type": "execute_result"
    }
   ],
   "source": [
    "x = torch.rand(3,1)\n",
    "torch.stack([x,x,x,x])"
   ]
  },
  {
   "cell_type": "code",
   "execution_count": 32,
   "id": "4a01f2ec",
   "metadata": {},
   "outputs": [
    {
     "data": {
      "text/plain": [
       "tensor([[0.5499, 0.5499, 0.5499, 0.5499],\n",
       "        [0.9058, 0.9058, 0.9058, 0.9058],\n",
       "        [0.7018, 0.7018, 0.7018, 0.7018]])"
      ]
     },
     "execution_count": 32,
     "metadata": {},
     "output_type": "execute_result"
    }
   ],
   "source": [
    "x.expand(3,4)"
   ]
  },
  {
   "cell_type": "code",
   "execution_count": 33,
   "id": "29b5d4a7",
   "metadata": {},
   "outputs": [
    {
     "data": {
      "text/plain": [
       "tensor([[0.5499, 0.5499, 0.5499, 0.5499],\n",
       "        [0.9058, 0.9058, 0.9058, 0.9058],\n",
       "        [0.7018, 0.7018, 0.7018, 0.7018]])"
      ]
     },
     "execution_count": 33,
     "metadata": {},
     "output_type": "execute_result"
    }
   ],
   "source": [
    "x.expand(-1,4)"
   ]
  },
  {
   "cell_type": "markdown",
   "id": "d2f4d9ac",
   "metadata": {},
   "source": [
    "x.expand(): 크기가 1인 차원을 지정한 크기로 늘림. \n",
    "- 반환 텐서는 뷰--> 새로운 메모리 공간 점유 X\n",
    "- 아래 torch.cat([x,x,x,x], dim=1)과 같은 결과"
   ]
  },
  {
   "cell_type": "code",
   "execution_count": 35,
   "id": "1cd81759",
   "metadata": {},
   "outputs": [
    {
     "data": {
      "text/plain": [
       "tensor([[0.5499, 0.5499, 0.5499, 0.5499],\n",
       "        [0.9058, 0.9058, 0.9058, 0.9058],\n",
       "        [0.7018, 0.7018, 0.7018, 0.7018]])"
      ]
     },
     "execution_count": 35,
     "metadata": {},
     "output_type": "execute_result"
    }
   ],
   "source": [
    "torch.cat([x,x,x,x], dim=1)"
   ]
  },
  {
   "cell_type": "code",
   "execution_count": 34,
   "id": "ea9d1ad7",
   "metadata": {},
   "outputs": [
    {
     "data": {
      "text/plain": [
       "tensor([[0.5499],\n",
       "        [0.9058],\n",
       "        [0.7018],\n",
       "        [0.5499],\n",
       "        [0.9058],\n",
       "        [0.7018],\n",
       "        [0.5499],\n",
       "        [0.9058],\n",
       "        [0.7018],\n",
       "        [0.5499],\n",
       "        [0.9058],\n",
       "        [0.7018]])"
      ]
     },
     "execution_count": 34,
     "metadata": {},
     "output_type": "execute_result"
    }
   ],
   "source": [
    "torch.cat([x,x,x,x], dim=0)"
   ]
  },
  {
   "cell_type": "markdown",
   "id": "d62b7f25",
   "metadata": {},
   "source": [
    "7. 2차원 행렬 두개(a=torch.rand(3,4,5), b=torch.rand(3,5,4))의 배치 행렬 곱셈을 계산하세요."
   ]
  },
  {
   "cell_type": "code",
   "execution_count": 38,
   "id": "a99fd7f4",
   "metadata": {},
   "outputs": [
    {
     "data": {
      "text/plain": [
       "tensor([[[0.9641, 1.8260, 1.2953, 2.6239],\n",
       "         [1.4579, 1.6706, 0.9796, 2.9465],\n",
       "         [0.5560, 1.0568, 0.9934, 1.1877],\n",
       "         [1.3446, 1.3377, 0.9296, 1.9636]],\n",
       "\n",
       "        [[2.1124, 2.5755, 2.0525, 1.3854],\n",
       "         [1.1710, 1.6644, 1.3303, 0.7471],\n",
       "         [1.2840, 1.8811, 1.1700, 0.7338],\n",
       "         [1.0356, 1.3333, 0.9187, 0.6954]],\n",
       "\n",
       "        [[1.2093, 1.2765, 0.6267, 1.1418],\n",
       "         [0.7045, 0.7952, 0.4943, 0.4809],\n",
       "         [0.8942, 0.5514, 0.4760, 0.7528],\n",
       "         [0.9574, 0.6767, 0.6624, 0.7972]]])"
      ]
     },
     "execution_count": 38,
     "metadata": {},
     "output_type": "execute_result"
    }
   ],
   "source": [
    "a=torch.rand(3,4,5)\n",
    "b=torch.rand(3,5,4)\n",
    "\n",
    "# 첫 차원 3을 배치 차원 처리\n",
    "torch.bmm(a,b)\n",
    "# 3*4*4 크기 텐서 출력"
   ]
  },
  {
   "cell_type": "markdown",
   "id": "239241cf",
   "metadata": {},
   "source": [
    "Batch Matrix-Matrix product (bmm)\n",
    "- 배치 행렬 곱셈: 첫번째 차원을 배치 차원으로 인식\n",
    "- \"배치 차원\": 모든 텐서의 첫번째축(샘플축)\n",
    "- \"배치\": 딥러닝 모델이 데이터셋을 처리하는 단위\n",
    "- 두 텐서의 배치 차원의 크기(b)가 같아야 함!\n",
    "- (b*n*m) x (b*m*p) --> (b*n*p) 크기\n",
    "- 공식: torch.bmm(a,b)"
   ]
  },
  {
   "cell_type": "markdown",
   "id": "309ddc5e",
   "metadata": {},
   "source": [
    "8. 3차원 행렬(a=torch.rand(3,4,5))과 2차원 행렬(b=torch.rand(5,4))의 배치 행렬 곱셈을 계산하세요."
   ]
  },
  {
   "cell_type": "code",
   "execution_count": 39,
   "id": "dced8cb9",
   "metadata": {},
   "outputs": [
    {
     "data": {
      "text/plain": [
       "tensor([[[1.2690, 0.5915, 1.0790, 0.7796],\n",
       "         [1.5243, 0.8203, 1.7320, 1.3944],\n",
       "         [1.2951, 0.7531, 1.6503, 1.5653],\n",
       "         [1.6362, 1.1462, 1.5153, 1.8671]],\n",
       "\n",
       "        [[1.4285, 0.9550, 0.8773, 1.1609],\n",
       "         [1.3492, 0.9135, 1.2597, 1.3740],\n",
       "         [1.4138, 0.8853, 1.0783, 1.1916],\n",
       "         [1.0297, 0.7511, 0.4533, 0.7155]],\n",
       "\n",
       "        [[1.3936, 0.7293, 1.3525, 1.3076],\n",
       "         [1.8024, 1.0326, 0.9601, 1.1667],\n",
       "         [0.9364, 0.6968, 0.4234, 0.8494],\n",
       "         [1.5914, 1.1919, 1.1488, 1.6544]]])"
      ]
     },
     "execution_count": 39,
     "metadata": {},
     "output_type": "execute_result"
    }
   ],
   "source": [
    "a=torch.rand(3,4,5)\n",
    "b=torch.rand(5,4)\n",
    "\n",
    "torch.bmm(a,b.unsqueeze(0).expand(a.size(0),*b.size()))\n",
    "# a.size(0)=3, a.size(1)=4, a.size(2)=5\n",
    "# (a.size(0),*b.size()) = (3, 5, 4)\n",
    "# (1, 5, 4).expand(3, 5, 4)\n",
    "# torch.bmm(a,b.unsqueeze(0).expand(3,-1,-1))과 같음"
   ]
  },
  {
   "cell_type": "code",
   "execution_count": 41,
   "id": "841fc2bc",
   "metadata": {},
   "outputs": [
    {
     "data": {
      "text/plain": [
       "tensor([[[0.6057, 0.5216, 0.0650, 0.8649],\n",
       "         [0.9918, 0.6676, 0.2204, 0.1506],\n",
       "         [0.5891, 0.0254, 0.9419, 0.2816],\n",
       "         [0.2386, 0.3485, 0.8103, 0.8387],\n",
       "         [0.6873, 0.4114, 0.2352, 0.3176]]])"
      ]
     },
     "execution_count": 41,
     "metadata": {},
     "output_type": "execute_result"
    }
   ],
   "source": [
    "b.unsqueeze(0)"
   ]
  }
 ],
 "metadata": {
  "kernelspec": {
   "display_name": "Python 3 (ipykernel)",
   "language": "python",
   "name": "python3"
  },
  "language_info": {
   "codemirror_mode": {
    "name": "ipython",
    "version": 3
   },
   "file_extension": ".py",
   "mimetype": "text/x-python",
   "name": "python",
   "nbconvert_exporter": "python",
   "pygments_lexer": "ipython3",
   "version": "3.9.13"
  }
 },
 "nbformat": 4,
 "nbformat_minor": 5
}
