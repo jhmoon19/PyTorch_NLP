{
 "cells": [
  {
   "cell_type": "markdown",
   "id": "e5909806",
   "metadata": {},
   "source": [
    "# 1. 텐서 만들기"
   ]
  },
  {
   "cell_type": "code",
   "execution_count": 6,
   "id": "44d4e7a6",
   "metadata": {},
   "outputs": [
    {
     "name": "stdout",
     "output_type": "stream",
     "text": [
      "타입: torch.FloatTensor\n",
      "크기: torch.Size([2, 3])\n",
      "값: \n",
      "tensor([[2.0912e+20, 1.3086e-11, 4.3009e-05],\n",
      "        [2.1668e-04, 1.3422e-05, 7.9883e+20]])\n",
      "\n"
     ]
    }
   ],
   "source": [
    "# 헬퍼 함수\n",
    "def describe(x):\n",
    "    print(\"타입: {}\".format(x.type()))\n",
    "    print(\"크기: {}\".format(x.shape))\n",
    "    print(\"값: \\n{}\".format(x))\n",
    "    print()\n",
    "          \n",
    "import torch\n",
    "describe(torch.Tensor(2,3))"
   ]
  },
  {
   "cell_type": "code",
   "execution_count": 7,
   "id": "c443b80d",
   "metadata": {},
   "outputs": [
    {
     "name": "stdout",
     "output_type": "stream",
     "text": [
      "타입: torch.FloatTensor\n",
      "크기: torch.Size([2, 3])\n",
      "값: \n",
      "tensor([[0.3079, 0.9800, 0.0950],\n",
      "        [0.9769, 0.3197, 0.0495]])\n",
      "\n",
      "타입: torch.FloatTensor\n",
      "크기: torch.Size([2, 3])\n",
      "값: \n",
      "tensor([[-1.7344, -0.3758, -1.1031],\n",
      "        [-0.5358, -0.0181, -1.0475]])\n",
      "\n"
     ]
    }
   ],
   "source": [
    "describe(torch.rand(2,3))  # [0,1) 범위 균등 분포\n",
    "describe(torch.randn(2,3)) # 표준 정규 분포 (평균:0, 분산1)"
   ]
  },
  {
   "cell_type": "code",
   "execution_count": 14,
   "id": "bc7ca123",
   "metadata": {},
   "outputs": [
    {
     "name": "stdout",
     "output_type": "stream",
     "text": [
      "타입: torch.FloatTensor\n",
      "크기: torch.Size([2, 3])\n",
      "값: \n",
      "tensor([[0., 0., 0.],\n",
      "        [0., 0., 0.]])\n",
      "\n",
      "타입: torch.FloatTensor\n",
      "크기: torch.Size([2, 3])\n",
      "값: \n",
      "tensor([[1., 1., 1.],\n",
      "        [1., 1., 1.]])\n",
      "\n",
      "타입: torch.FloatTensor\n",
      "크기: torch.Size([2, 3])\n",
      "값: \n",
      "tensor([[5., 5., 5.],\n",
      "        [5., 5., 5.]])\n",
      "\n",
      "타입: torch.FloatTensor\n",
      "크기: torch.Size([2, 3])\n",
      "값: \n",
      "tensor([[-0.9222, -0.0829, -1.0889],\n",
      "        [-0.2669,  0.7799,  0.5220]])\n",
      "\n",
      "타입: torch.FloatTensor\n",
      "크기: torch.Size([2, 3])\n",
      "값: \n",
      "tensor([[0.4252, 0.6619, 0.8286],\n",
      "        [0.1648, 0.7758, 0.7630]])\n",
      "\n"
     ]
    }
   ],
   "source": [
    "describe(torch.zeros(2,3))\n",
    "\n",
    "x = torch.ones(2,3)\n",
    "describe(x)\n",
    "\n",
    "# 인-플레이스 메소드(_붙음)\n",
    "# 해당 텐서의 값을 바꿈.\n",
    "# 1. 똑같은 값으로 채우기\n",
    "x.fill_(5)\n",
    "describe(x)\n",
    "\n",
    "# 2. 정규 분포\n",
    "x.normal_()\n",
    "describe(x)\n",
    "\n",
    "# 3. 균등 분포\n",
    "x.uniform_()\n",
    "describe(x)"
   ]
  },
  {
   "cell_type": "code",
   "execution_count": 24,
   "id": "7eb11d82",
   "metadata": {},
   "outputs": [
    {
     "name": "stdout",
     "output_type": "stream",
     "text": [
      "타입: torch.FloatTensor\n",
      "크기: torch.Size([2, 3])\n",
      "값: \n",
      "tensor([[1., 2., 3.],\n",
      "        [4., 5., 6.]])\n",
      "\n"
     ]
    }
   ],
   "source": [
    "# 리스트로 텐서 만들기\n",
    "x = torch.Tensor([[1,2,3],\n",
    "                 [4,5,6]])\n",
    "describe(x)"
   ]
  },
  {
   "cell_type": "code",
   "execution_count": 15,
   "id": "805fd791",
   "metadata": {},
   "outputs": [
    {
     "name": "stdout",
     "output_type": "stream",
     "text": [
      "타입: torch.DoubleTensor\n",
      "크기: torch.Size([2, 3])\n",
      "값: \n",
      "tensor([[0.6848, 0.5579, 0.3614],\n",
      "        [0.9748, 0.4449, 0.8236]], dtype=torch.float64)\n",
      "\n"
     ]
    }
   ],
   "source": [
    "# 넘파이로 텐서 만들기\n",
    "import numpy as np\n",
    "\n",
    "npy = np.random.rand(2,3)\n",
    "# array([[0.87091775, 0.71359683, 0.18997446],\n",
    "#       [0.04928487, 0.03445624, 0.10588984]])\n",
    "\n",
    "describe(torch.from_numpy(npy))\n",
    "# DoubleTensor로 타입이 변경됨.\n",
    "# 넘파이 배열의 기본 타입이 float64이기 때문."
   ]
  },
  {
   "cell_type": "markdown",
   "id": "4d029a50",
   "metadata": {},
   "source": [
    "# 2. 텐서 타입과 크기"
   ]
  },
  {
   "cell_type": "code",
   "execution_count": 23,
   "id": "17d38595",
   "metadata": {},
   "outputs": [
    {
     "name": "stdout",
     "output_type": "stream",
     "text": [
      "타입: torch.FloatTensor\n",
      "크기: torch.Size([2, 3])\n",
      "값: \n",
      "tensor([[1., 2., 3.],\n",
      "        [4., 5., 6.]])\n",
      "\n",
      "타입: torch.LongTensor\n",
      "크기: torch.Size([2, 3])\n",
      "값: \n",
      "tensor([[1, 2, 3],\n",
      "        [4, 5, 6]])\n",
      "\n",
      "타입: torch.LongTensor\n",
      "크기: torch.Size([2, 3])\n",
      "값: \n",
      "tensor([[1, 2, 3],\n",
      "        [4, 5, 6]])\n",
      "\n",
      "타입: torch.FloatTensor\n",
      "크기: torch.Size([2, 3])\n",
      "값: \n",
      "tensor([[1., 2., 3.],\n",
      "        [4., 5., 6.]])\n",
      "\n"
     ]
    }
   ],
   "source": [
    "x = torch.FloatTensor([[1,2,3],\n",
    "                      [4,5,6]])\n",
    "describe(x)\n",
    "\n",
    "# 타입 캐스팅 메소드1\n",
    "x = x.long()\n",
    "describe(x)\n",
    "\n",
    "# 아예 torch.int64 타입 명시 --> torch.LongTensor 타입\n",
    "# torch.tensor(__, dtype=__) O, torch.Tensor(__, dtype=__) X\n",
    "x = torch.tensor([[1,2,3],\n",
    "                 [4,5,6]], dtype=torch.int64)\n",
    "describe(x)\n",
    "\n",
    "# 타입 캐스팅 메소드2\n",
    "x = x.float()\n",
    "describe(x)"
   ]
  },
  {
   "cell_type": "markdown",
   "id": "12774359",
   "metadata": {},
   "source": [
    "# 3. 텐서 연산"
   ]
  },
  {
   "cell_type": "code",
   "execution_count": 25,
   "id": "a37ef0b6",
   "metadata": {},
   "outputs": [
    {
     "name": "stdout",
     "output_type": "stream",
     "text": [
      "타입: torch.FloatTensor\n",
      "크기: torch.Size([2, 3])\n",
      "값: \n",
      "tensor([[ 0.5236,  0.4885,  0.9260],\n",
      "        [ 0.0569,  0.0909, -1.8697]])\n",
      "\n",
      "타입: torch.FloatTensor\n",
      "크기: torch.Size([2, 3])\n",
      "값: \n",
      "tensor([[ 1.0472,  0.9769,  1.8519],\n",
      "        [ 0.1137,  0.1817, -3.7393]])\n",
      "\n",
      "타입: torch.FloatTensor\n",
      "크기: torch.Size([2, 3])\n",
      "값: \n",
      "tensor([[ 1.0472,  0.9769,  1.8519],\n",
      "        [ 0.1137,  0.1817, -3.7393]])\n",
      "\n"
     ]
    }
   ],
   "source": [
    "x = torch.randn(2,3)\n",
    "describe(x)\n",
    "\n",
    "describe(torch.add(x,x))\n",
    "\n",
    "describe(x+x)"
   ]
  },
  {
   "cell_type": "code",
   "execution_count": 28,
   "id": "787466ae",
   "metadata": {},
   "outputs": [
    {
     "name": "stdout",
     "output_type": "stream",
     "text": [
      "타입: torch.LongTensor\n",
      "크기: torch.Size([6])\n",
      "값: \n",
      "tensor([0, 1, 2, 3, 4, 5])\n",
      "\n",
      "타입: torch.LongTensor\n",
      "크기: torch.Size([2, 3])\n",
      "값: \n",
      "tensor([[0, 1, 2],\n",
      "        [3, 4, 5]])\n",
      "\n",
      "1830844869440\n",
      "1830844869440\n",
      "\n",
      "타입: torch.LongTensor\n",
      "크기: torch.Size([3])\n",
      "값: \n",
      "tensor([3, 5, 7])\n",
      "\n",
      "타입: torch.LongTensor\n",
      "크기: torch.Size([2])\n",
      "값: \n",
      "tensor([ 3, 12])\n",
      "\n",
      "타입: torch.LongTensor\n",
      "크기: torch.Size([3, 2])\n",
      "값: \n",
      "tensor([[0, 3],\n",
      "        [1, 4],\n",
      "        [2, 5]])\n",
      "\n"
     ]
    }
   ],
   "source": [
    "# 차원별 연산\n",
    "\n",
    "x = torch.arange(6)\n",
    "describe(x)\n",
    "#tensor([0, 1, 2, 3, 4, 5]) --> LongTensor\n",
    "# Q. 책에서는 왜 FloatTensor 타입이지?\n",
    "\n",
    "# view(): 동일한 데이터를 공유하는 새로운 텐서 만듦.\n",
    "# --> data.ptr() 사용시 원본 텐서와 뷰 텐서가 같은 저장위치임을 확인 가능.\n",
    "y = x.view(2,3)\n",
    "describe(y)\n",
    "# tensor([[0, 1, 2],\n",
    "#         [3, 4, 5]])\n",
    "\n",
    "# 두 텐서 모두 같은 저장 위치: 1830844865600\n",
    "print(x.data_ptr())\n",
    "print(y.data_ptr())\n",
    "print()\n",
    "\n",
    "# 1) 행과 행 더하기 (dim=0)\n",
    "describe(torch.sum(y, dim=0))  # tensor([3, 5, 7])\n",
    "# 2) 열과 열 더하기 (dim=1)\n",
    "describe(torch.sum(y, dim=1))  # tensor([ 3, 12])\n",
    "\n",
    "# 0차원(행)과 1차원(열) 전치\n",
    "describe(torch.transpose(y, 0, 1))\n",
    "# tensor([[0, 3],\n",
    "#         [1, 4],\n",
    "#         [2, 5]])"
   ]
  },
  {
   "cell_type": "markdown",
   "id": "160a297e",
   "metadata": {},
   "source": [
    "# 4. 인덱싱, 슬라이싱, 연결"
   ]
  },
  {
   "cell_type": "markdown",
   "id": "a6c7e171",
   "metadata": {},
   "source": [
    "## 4.1. 인덱싱과 슬라이싱"
   ]
  },
  {
   "cell_type": "code",
   "execution_count": 30,
   "id": "36ef9992",
   "metadata": {},
   "outputs": [
    {
     "name": "stdout",
     "output_type": "stream",
     "text": [
      "타입: torch.LongTensor\n",
      "크기: torch.Size([2, 3])\n",
      "값: \n",
      "tensor([[0, 1, 2],\n",
      "        [3, 4, 5]])\n",
      "\n",
      "타입: torch.LongTensor\n",
      "크기: torch.Size([1, 2])\n",
      "값: \n",
      "tensor([[0, 1]])\n",
      "\n",
      "타입: torch.LongTensor\n",
      "크기: torch.Size([])\n",
      "값: \n",
      "1\n",
      "\n"
     ]
    }
   ],
   "source": [
    "x = torch.arange(6).view(2,3)\n",
    "describe(x)\n",
    "\n",
    "describe(x[:1,:2])  # tensor([[0, 1]])\n",
    "\n",
    "describe(x[0,1])    # 1\n",
    "# torch.Size([])"
   ]
  },
  {
   "cell_type": "code",
   "execution_count": 31,
   "id": "7092bf84",
   "metadata": {},
   "outputs": [
    {
     "name": "stdout",
     "output_type": "stream",
     "text": [
      "타입: torch.LongTensor\n",
      "크기: torch.Size([2, 2])\n",
      "값: \n",
      "tensor([[0, 2],\n",
      "        [3, 5]])\n",
      "\n",
      "타입: torch.LongTensor\n",
      "크기: torch.Size([2, 3])\n",
      "값: \n",
      "tensor([[0, 1, 2],\n",
      "        [0, 1, 2]])\n",
      "\n",
      "타입: torch.LongTensor\n",
      "크기: torch.Size([2])\n",
      "값: \n",
      "tensor([0, 4])\n",
      "\n"
     ]
    }
   ],
   "source": [
    "# 복잡한 인덱싱\n",
    "# 불연속 텐서 인덱스 참조하기\n",
    "# torch.index_select([텐서], dim=0/1, index=___)\n",
    "\n",
    "indices = torch.LongTensor([0,2])\n",
    "describe(torch.index_select(x, dim=1, index=indices))\n",
    "# 0열과 2열 선택하기\n",
    "\n",
    "indices = torch.LongTensor([0,0])\n",
    "describe(torch.index_select(x, dim=0, index=indices))\n",
    "# 0행과 0행 선택하기\n",
    "\n",
    "row_indices = torch.arange(2).long()  # tensor([0,1])\n",
    "col_indices = torch.LongTensor([0,1])\n",
    "describe(x[row_indices, col_indices]) # x[[0,1],[0,1]]\n",
    "# x의 0행과 1행, 그것의 0열과 1열\n",
    "# --> tensor([0, 4])"
   ]
  },
  {
   "cell_type": "code",
   "execution_count": 40,
   "id": "8ae4376e",
   "metadata": {},
   "outputs": [
    {
     "data": {
      "text/plain": [
       "tensor(1)"
      ]
     },
     "execution_count": 40,
     "metadata": {},
     "output_type": "execute_result"
    }
   ],
   "source": [
    "# 인덱싱, 슬라이싱 기초 정리\n",
    "\n",
    "x = tensor.arange(6).view(2,3)\n",
    "# tensor([[0, 1, 2],\n",
    "#         [3, 4, 5]])\n",
    "x[0,1] # 0행 1열 # tensor(1)\n",
    "x[0][1] # tensor(1)\n",
    "x[0]   # tensor([0, 1, 2])\n",
    "x[1]   # tensor([3, 4, 5])\n",
    "# x[2] # 인덱스에러\n",
    "x[1:]  # tensor([[3, 4, 5]])\n",
    "x[[0]] # tensor([[0, 1, 2]])\n",
    "x[[1]] # tensor([[3, 4, 5]])\n",
    "x[[0,1]] # 0행 & 1행\n",
    "         # tensor([[0, 1, 2],\n",
    "         # [3, 4, 5]])\n",
    "# x[[0][1]] # 인덱스에러\n",
    "# x[[0:1]] # 신택스에러\n",
    "x[[0,1],[0,1]] # 0행&1행의 각 0열&1열\n",
    "               # 0행의 0행, 1행의 1행\n",
    "               # tensor([0, 4])\n",
    "# x[[0,1],[0,1,2]] # 인덱스에러 (shape mismatch)"
   ]
  },
  {
   "cell_type": "markdown",
   "id": "07489911",
   "metadata": {},
   "source": [
    "## 4.2. 텐서 연결"
   ]
  },
  {
   "cell_type": "code",
   "execution_count": 59,
   "id": "0223a010",
   "metadata": {},
   "outputs": [
    {
     "name": "stdout",
     "output_type": "stream",
     "text": [
      "타입: torch.LongTensor\n",
      "크기: torch.Size([2, 3])\n",
      "값: \n",
      "tensor([[0, 1, 2],\n",
      "        [3, 4, 5]])\n",
      "\n",
      "타입: torch.LongTensor\n",
      "크기: torch.Size([4, 3])\n",
      "값: \n",
      "tensor([[0, 1, 2],\n",
      "        [3, 4, 5],\n",
      "        [0, 1, 2],\n",
      "        [3, 4, 5]])\n",
      "\n",
      "타입: torch.LongTensor\n",
      "크기: torch.Size([2, 6])\n",
      "값: \n",
      "tensor([[0, 1, 2, 0, 1, 2],\n",
      "        [3, 4, 5, 3, 4, 5]])\n",
      "\n",
      "타입: torch.LongTensor\n",
      "크기: torch.Size([2, 2, 3])\n",
      "값: \n",
      "tensor([[[0, 1, 2],\n",
      "         [3, 4, 5]],\n",
      "\n",
      "        [[0, 1, 2],\n",
      "         [3, 4, 5]]])\n",
      "\n"
     ]
    }
   ],
   "source": [
    "x = torch.arange(6).view(2,3)\n",
    "describe(x)\n",
    "\n",
    "describe(torch.cat([x,x], dim=0))\n",
    "# 크기: torch.Size([4, 3])\n",
    "# tensor([[0, 1, 2],\n",
    "#         [3, 4, 5],\n",
    "#         [0, 1, 2],\n",
    "#         [3, 4, 5]])\n",
    "describe(torch.cat([x,x], dim=1))\n",
    "# 크기: torch.Size([2, 6])\n",
    "# tensor([[0, 1, 2, 0, 1, 2],\n",
    "#         [3, 4, 5, 3, 4, 5]])\n",
    "\n",
    "describe(torch.stack([x,x]))\n",
    "# 크기: torch.Size([2, 2, 3])\n",
    "# tensor([[[0, 1, 2],\n",
    "#          [3, 4, 5]],\n",
    "\n",
    "#         [[0, 1, 2],\n",
    "#          [3, 4, 5]]])"
   ]
  },
  {
   "cell_type": "markdown",
   "id": "138f7fb5",
   "metadata": {},
   "source": [
    "## 4.3. 텐서의 선형 대수 계산: 행렬 곱셈"
   ]
  },
  {
   "cell_type": "code",
   "execution_count": 62,
   "id": "ac8d4977",
   "metadata": {},
   "outputs": [
    {
     "name": "stdout",
     "output_type": "stream",
     "text": [
      "타입: torch.FloatTensor\n",
      "크기: torch.Size([2, 3])\n",
      "값: \n",
      "tensor([[0., 1., 2.],\n",
      "        [3., 4., 5.]])\n",
      "\n",
      "타입: torch.FloatTensor\n",
      "크기: torch.Size([3, 2])\n",
      "값: \n",
      "tensor([[1., 2.],\n",
      "        [1., 2.],\n",
      "        [1., 2.]])\n",
      "\n",
      "타입: torch.FloatTensor\n",
      "크기: torch.Size([2, 2])\n",
      "값: \n",
      "tensor([[ 3.,  6.],\n",
      "        [12., 24.]])\n",
      "\n"
     ]
    }
   ],
   "source": [
    "x1 = torch.arange(6).view(2,3).float()\n",
    "describe(x1)\n",
    "''' 왠지 모르겠는데 여기선 arange가 Long타입이 돼서 \n",
    "곱셈 연산 위해 타입 맞춰주기 위해 float()으로 바꿔줌'''\n",
    "\n",
    "x2 = torch.ones(3,2)\n",
    "x2[:,1] += 1\n",
    "describe(x2)\n",
    "\n",
    "# 곱셈: (2,3)*(3,2)=(2,2) 사이즈\n",
    "describe(torch.mm(x1,x2))"
   ]
  },
  {
   "cell_type": "markdown",
   "id": "a1a0005a",
   "metadata": {},
   "source": [
    "# 5. 텐서와 계산 그래프"
   ]
  },
  {
   "cell_type": "code",
   "execution_count": 71,
   "id": "f368fcbc",
   "metadata": {},
   "outputs": [
    {
     "name": "stdout",
     "output_type": "stream",
     "text": [
      "타입: torch.FloatTensor\n",
      "크기: torch.Size([2, 2])\n",
      "값: \n",
      "tensor([[1., 1.],\n",
      "        [1., 1.]], requires_grad=True)\n",
      "\n",
      "True\n",
      "타입: torch.FloatTensor\n",
      "크기: torch.Size([2, 2])\n",
      "값: \n",
      "tensor([[21., 21.],\n",
      "        [21., 21.]], grad_fn=<AddBackward0>)\n",
      "\n",
      "True\n",
      "타입: torch.FloatTensor\n",
      "크기: torch.Size([])\n",
      "값: \n",
      "21.0\n",
      "\n",
      "False\n"
     ]
    }
   ],
   "source": [
    "# 그래디언트 연산 가능한 텐서 만들기\n",
    "\n",
    "x = torch.ones(2,2, requires_grad=True)\n",
    "describe(x)\n",
    "# tensor([[1., 1.],\n",
    "#         [1., 1.]], requires_grad=True)\n",
    "print(x.grad is None)  # True\n",
    "\n",
    "# 행렬끼리의 단순 원소별 곱셈*\n",
    "# 선형대수의 행렬 곱셈 아님 주의!\n",
    "# 1. 정방향 계산\n",
    "y = (x+2) * (x+5) + 3\n",
    "describe(y)\n",
    "# tensor([[21., 21.],\n",
    "#         [21., 21.]], grad_fn=<AddBackward0>)\n",
    "print(x.grad is None)  # True\n",
    "\n",
    "# z: 손실함수의 평가 결과로 얻은 텐서\n",
    "z = y.mean()\n",
    "describe(z)  # 21.0\n",
    "\n",
    "# 2. 역방향 계산\n",
    "z.backward()\n",
    "print(x.grad is None) # False\n",
    "# x.grad = \n",
    "# tensor([[2.2500, 2.2500],\n",
    "#         [2.2500, 2.2500]])"
   ]
  },
  {
   "cell_type": "markdown",
   "id": "7939d1b0",
   "metadata": {},
   "source": [
    "## *그래디언트 (Gradient)\n",
    "- 합수 입력에 대한 함수 출력의 기울기 \n",
    "- --> 오류 신호에 대한 파라미터의 기여\n",
    "- 모델의 파라미터마다 존재\n",
    "- 계산 그래프 속 노드의 그래디언트 확인: .grad\n",
    "\n",
    "### 그래디언트의 의미에 대해 더 찾아보기!"
   ]
  }
 ],
 "metadata": {
  "kernelspec": {
   "display_name": "Python 3 (ipykernel)",
   "language": "python",
   "name": "python3"
  },
  "language_info": {
   "codemirror_mode": {
    "name": "ipython",
    "version": 3
   },
   "file_extension": ".py",
   "mimetype": "text/x-python",
   "name": "python",
   "nbconvert_exporter": "python",
   "pygments_lexer": "ipython3",
   "version": "3.9.13"
  }
 },
 "nbformat": 4,
 "nbformat_minor": 5
}
